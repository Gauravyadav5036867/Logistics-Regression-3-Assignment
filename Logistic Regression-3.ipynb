{
 "cells": [
  {
   "cell_type": "code",
   "execution_count": null,
   "id": "3420abaa-e1fc-4d42-825c-a23c50ea23ff",
   "metadata": {},
   "outputs": [],
   "source": [
    "#Question 1\n",
    "\n",
    "Precision measures the proportion of correctly predicted positive instances. Accuracy assesses the overall correctness of predictions. Recall evaluates the proportion of actual positive instances correctly identified by the model."
   ]
  },
  {
   "cell_type": "code",
   "execution_count": null,
   "id": "4c889d2a-e825-4f91-a2d5-4e623971124a",
   "metadata": {},
   "outputs": [],
   "source": [
    "#Question 2\n",
    "\n",
    "The F1 score is calculated as the harmonic mean of the precision and recall scores, as shown below. It ranges from 0-100%, and a higher F1 score denotes a better quality classifier. Why is the F1 score calculated using the harmonic mean instead of simple arithmetic or geometric means"
   ]
  },
  {
   "cell_type": "code",
   "execution_count": null,
   "id": "00edcd18-9f98-41b3-b467-41f8d2449609",
   "metadata": {},
   "outputs": [],
   "source": [
    "#Question 3\n",
    "\n",
    "The ROC AUC score is the area under the ROC curve. It sums up how well a model can produce relative scores to discriminate between positive or negative instances across all classification thresholds. The ROC AUC score ranges from 0 to 1, where 0.5 indicates random guessing, and 1 indicates perfect performance."
   ]
  },
  {
   "cell_type": "code",
   "execution_count": null,
   "id": "a4b0d068-0424-44b4-a1be-95824076c012",
   "metadata": {},
   "outputs": [],
   "source": [
    "#Question 4\n",
    "\n",
    "Classification Metrics like accuracy, precision, recall are good ways to evaluate classification models for balanced datasets, but if the data is imbalanced then other methods like ROC/AUC perform better in evaluating the model performance.\n",
    "\n",
    "\n",
    "Binary classification are those tasks where examples are assigned exactly one of two classes. Multi-class classification is those tasks where examples are assigned exactly one of more than two classes."
   ]
  },
  {
   "cell_type": "code",
   "execution_count": null,
   "id": "03a4fcaa-05af-4a07-bb3a-1d6114e2400d",
   "metadata": {},
   "outputs": [],
   "source": [
    "#Question 5\n",
    "\n",
    "Logistic regression can be applied to solve multiclass problems. For each class, build a logistic regression to find the probability the observation belongs to that class. For each data point, predict the class with the highest probability. Normalizes probabilities so they sum to 1."
   ]
  },
  {
   "cell_type": "code",
   "execution_count": null,
   "id": "1e71d302-b902-4feb-9016-1ba0ef9f911d",
   "metadata": {},
   "outputs": [],
   "source": [
    "#Question 6\n",
    " \n",
    "An end-to-end project for multiclass classification involves several key steps, from data collection and preprocessing to model evaluation and deployment. Here is a comprehensive outline of the process:\n",
    "\n",
    "1. Define the Problem\n",
    "Objective: Clearly define the problem you are trying to solve. For multiclass classification, identify the classes and the target variable.\n",
    "\n",
    "Example: Classify types of flowers into three categories (setosa, versicolor, virginica).\n",
    "2. Data Collection\n",
    "Gather Data: Collect the data required for the analysis. This could involve:\n",
    "\n",
    "Downloading datasets from online repositories.\n",
    "Extracting data from databases.\n",
    "Web scraping or using APIs to gather data.\n",
    "3. Data Exploration and Analysis\n",
    "Initial Analysis:\n",
    "\n",
    "Understand the Data: Examine the dataset to understand its structure, types of features, and summary statistics.\n",
    "Visualize the Data: Use plots (histograms, scatter plots, box plots) to visualize the distribution of features and relationships between them.\n",
    "4. Data Preprocessing\n",
    "Clean the Data:\n",
    "\n",
    "Handle Missing Values: Impute or remove missing values.\n",
    "Outlier Detection: Identify and treat outliers if necessary.\n",
    "Feature Engineering:\n",
    "\n",
    "Transform Features: Normalize or standardize features to ensure they are on the same scale.\n",
    "Encode Categorical Variables: Convert categorical variables into numerical values using techniques like one-hot encoding or label encoding.\n",
    "Feature Creation: Create new features that might be useful for the model.\n",
    "Split the Data:\n",
    "\n",
    "Train-Test Split: Split the data into training and testing sets (e.g., 80/20 split).\n",
    "Cross-Validation: Optionally, split the training data further into validation sets for cross-validation.\n",
    "5. Model Selection and Training\n",
    "Choose Algorithms:\n",
    "\n",
    "Select Models: Choose appropriate algorithms for multiclass classification (e.g., decision trees, random forests, support vector machines, neural networks).\n",
    "Train Models:\n",
    "\n",
    "Fit Models: Train different models on the training data.\n",
    "Hyperparameter Tuning: Use techniques like grid search or random search to find the best hyperparameters for each model.\n",
    "6. Model Evaluation\n",
    "Evaluate Performance:\n",
    "\n",
    "Metrics: Use evaluation metrics suitable for multiclass classification, such as accuracy, precision, recall, F1-score, and confusion matrix.\n",
    "Cross-Validation: Validate model performance using cross-validation to ensure generalizability.\n",
    "Compare Models:\n",
    "\n",
    "Select the Best Model: Compare the performance of different models and select the one that performs best based on the chosen metrics.\n",
    "7. Model Interpretation\n",
    "Interpret Results:\n",
    "\n",
    "Feature Importance: Identify the most important features that contribute to the model’s predictions.\n",
    "Visualize Decisions: Use techniques like decision plots or SHAP values to interpret model decisions.\n",
    "8. Model Deployment\n",
    "Prepare for Deployment:\n",
    "\n",
    "Model Serialization: Save the trained model using serialization libraries like joblib or pickle.\n",
    "API Development: Develop an API using frameworks like Flask or FastAPI to serve the model predictions.\n",
    "Deploy Model:\n",
    "\n",
    "Deployment Platform: Deploy the model on a cloud platform (e.g., AWS, Azure, Google Cloud) or on-premises server.\n",
    "Monitoring: Set up monitoring to track model performance in production and detect any issues.\n",
    "9. Model Maintenance\n",
    "Continuous Improvement:\n",
    "\n",
    "Retrain Model: Periodically retrain the model with new data to maintain performance.\n",
    "Update Features: Continuously monitor the importance of features and update them as needed.\n",
    "Monitor Metrics: Keep an eye on performance metrics to ensure the model continues to perform well.\n",
    "10. Documentation and Reporting\n",
    "Document the Process:\n",
    "\n",
    "Methodology: Document the entire process, including data preprocessing steps, model selection, and evaluation metrics.\n",
    "Code: Maintain clean and well-commented code for reproducibility.\n",
    "Reporting:\n",
    "\n",
    "Present Findings: Prepare reports or dashboards to present the results to stakeholders.\n",
    "Actionable Insights: Provide actionable insights based on the model’s predictions."
   ]
  },
  {
   "cell_type": "code",
   "execution_count": null,
   "id": "39f11787-11b3-427b-a6d8-90bb4cdf4fd0",
   "metadata": {},
   "outputs": [],
   "source": [
    "#Question 7 \n",
    "\n",
    "Model deployment in machine learning is the process of integrating your model into an existing production environment where it can take in an input and return an output. The goal is to make the predictions from your trained machine learning model available to others."
   ]
  },
  {
   "cell_type": "code",
   "execution_count": null,
   "id": "e63ee68d-10d9-44d1-8c6e-8f903ff42417",
   "metadata": {},
   "outputs": [],
   "source": [
    "#Question 8\n",
    "\n",
    "Multi-cloud deployments have a number of uses. A multi-cloud deployment can leverage multiple IaaS (infrastructure-as-a-service) vendors, or it could use a different vendor for IaaS, PaaS (platform-as-a-service), and SaaS (software-as-a-service) services"
   ]
  },
  {
   "cell_type": "code",
   "execution_count": null,
   "id": "c6f63f72-ba18-434b-9b72-a64232aea13d",
   "metadata": {},
   "outputs": [],
   "source": [
    "#Question 9\n",
    "\n"
   ]
  }
 ],
 "metadata": {
  "kernelspec": {
   "display_name": "Python 3 (ipykernel)",
   "language": "python",
   "name": "python3"
  },
  "language_info": {
   "codemirror_mode": {
    "name": "ipython",
    "version": 3
   },
   "file_extension": ".py",
   "mimetype": "text/x-python",
   "name": "python",
   "nbconvert_exporter": "python",
   "pygments_lexer": "ipython3",
   "version": "3.10.8"
  }
 },
 "nbformat": 4,
 "nbformat_minor": 5
}
